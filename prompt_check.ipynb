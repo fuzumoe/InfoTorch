{
 "cells": [
  {
   "cell_type": "code",
   "execution_count": 1,
   "id": "d099e89a",
   "metadata": {},
   "outputs": [
    {
     "data": {
      "text/plain": [
       "'Hello from InfoTorch'"
      ]
     },
     "metadata": {},
     "output_type": "display_data"
    }
   ],
   "source": [
    "display(\"Hello from InfoTorch\")"
   ]
  }
 ],
 "metadata": {
  "kernelspec": {
   "display_name": "InfoTorch",
   "language": "python",
   "name": "python3"
  },
  "language_info": {
   "codemirror_mode": {
    "name": "ipython",
    "version": 3
   },
   "file_extension": ".py",
   "mimetype": "text/x-python",
   "name": "python",
   "nbconvert_exporter": "python",
   "pygments_lexer": "ipython3",
   "version": "3.12.11"
  }
 },
 "nbformat": 4,
 "nbformat_minor": 5
}
